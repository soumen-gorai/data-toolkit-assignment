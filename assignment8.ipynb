{
  "nbformat": 4,
  "nbformat_minor": 0,
  "metadata": {
    "colab": {
      "provenance": [],
      "authorship_tag": "ABX9TyN5fZEcQSDrP0Ma/5cYWISG",
      "include_colab_link": true
    },
    "kernelspec": {
      "name": "python3",
      "display_name": "Python 3"
    },
    "language_info": {
      "name": "python"
    }
  },
  "cells": [
    {
      "cell_type": "markdown",
      "metadata": {
        "id": "view-in-github",
        "colab_type": "text"
      },
      "source": [
        "<a href=\"https://colab.research.google.com/github/soumen-gorai/data-toolkit-assignment/blob/main/assignment8.ipynb\" target=\"_parent\"><img src=\"https://colab.research.google.com/assets/colab-badge.svg\" alt=\"Open In Colab\"/></a>"
      ]
    },
    {
      "cell_type": "markdown",
      "source": [
        "#1. What is NumPy, and why is it widely used in Python?\n",
        ":- NumPy (short for Numerical Python) is a powerful library in Python that provides support for large, multi-dimensional arrays and matrices, along with a collection of mathematical functions to operate on these arrays.\n",
        "# Why NumPy is Widely Used in Python:\n",
        "#Performance:\n",
        "NumPys array operations are implemented in C, so they are much faster than pure Python loops. This speed boost is particularly important when working with large datasets or performing computationally intensive tasks like matrix operations.\n",
        "#Ease of Use:\n",
        "The syntax of NumPy is intuitive and easy to learn, especially for those with a background in scientific computing or mathematical operations. It offers high-level functions for complex tasks like matrix multiplication, statistics, and linear algebra.\n",
        "#Large Community & Support:\n",
        "NumPy has a large and active community of users and developers, making it easy to find solutions to problems or learn how to use advanced features. Its long history and wide adoption in academia, research, and industry make it well-supported.\n",
        "#Compatibility:\n",
        "NumPy integrates seamlessly with other Python libraries and tools, which is essential for data science, machine learning, and scientific computing workflows. It works well with data manipulation tools like Pandas and visualization tools like Matplotlib.\n"
      ],
      "metadata": {
        "id": "GXZqc1TMoOdT"
      }
    },
    {
      "cell_type": "markdown",
      "source": [
        " # 2.How does broadcasting work in NumPy?\n",
        "\n",
        " :- Broadcasting in NumPy refers to the ability to perform element-wise operations on arrays of different shapes in such a way that NumPy.\n",
        " # Broadcasting Rules\n",
        " Broadcasting follows a set of rules to determine how two arrays can be combined, even if they have different shapes.\n",
        " # If the arrays have a different number of dimensions:\n",
        " The smaller-dimensional array is padded with ones on the left until both arrays have the same number of dimensions.\n",
        " # If the size of the dimensions is not the same:\n",
        " The arrays can still be compatible if, for each dimension, the size of one array is 1, or the size of both arrays is the same.\n",
        " # If the sizes of the dimensions do not match and neither is 1:\n",
        " Broadcasting is not possible, and NumPy will raise a ValueError.\n"
      ],
      "metadata": {
        "id": "tVT9iMlPpKXL"
      }
    },
    {
      "cell_type": "markdown",
      "source": [
        "#3.What is a Pandas DataFrame?\n",
        ":- A Pandas DataFrame is a 2-dimensional, labeled data structure that is part of the Pandas library, which is widely used in Python for data manipulation and analysis.\n",
        "#2-Dimensional Structure:\n",
        "A DataFrame consists of rows and columns, where the rows represent individual data entries and the columns represent different features of the data.\n",
        "#Size Mutable:\n",
        "You can easily modify the size of a DataFrame by adding or dropping rows or columns.\n",
        "#Powerful Data Manipulation Capabilities:\n",
        "Pandas provides a vast range of tools for manipulating, filtering, reshaping, aggregating, and visualizing data in DataFrames.\n",
        "#DataFrame consists of three main components:\n",
        "\n",
        "Data: The actual data stored in the form of rows and columns.\n",
        "\n",
        "Index: The row labels. By default, Pandas uses an integer index starting from 0, but it can be customized.\n",
        "\n",
        "Columns: The labels for the columns. Like the index, column labels can also be customized.\n"
      ],
      "metadata": {
        "id": "b1lIM9NIqKn6"
      }
    },
    {
      "cell_type": "markdown",
      "source": [
        "#4. Explain the use of the groupby() method in Pandas.\n",
        ":- The groupby() method in Pandas is one of the most powerful tools for splitting, applying, and combining data, and it's an essential feature for data aggregation and summarization.\n",
        "#Split:\n",
        "The data is divided into groups based on some criteria .\n",
        "#Apply:\n",
        "A function is applied to each group independently.\n",
        "#Combine:\n",
        "The results of the applied function are combined back into a single data structure."
      ],
      "metadata": {
        "id": "s5G4XGxTrHww"
      }
    },
    {
      "cell_type": "code",
      "execution_count": 2,
      "metadata": {
        "colab": {
          "base_uri": "https://localhost:8080/",
          "height": 0
        },
        "id": "DZPg0CjroD-W",
        "outputId": "da75aa0b-2ce0-4f83-f77e-fb86004285fd"
      },
      "outputs": [
        {
          "output_type": "stream",
          "name": "stdout",
          "text": [
            "  Store  Sales Category\n",
            "0     A    200       tv\n",
            "1     B    300      fan\n",
            "2     A    150       tv\n",
            "3     B    400      fan\n",
            "4     A    250       tv\n",
            "5     B    500      fan\n",
            "Store\n",
            "A     600\n",
            "B    1200\n",
            "Name: Sales, dtype: int64\n"
          ]
        }
      ],
      "source": [
        "import pandas as pd\n",
        "\n",
        "# Example DataFrame\n",
        "data = {\n",
        "    'Store': ['A', 'B', 'A', 'B', 'A', 'B'],\n",
        "    'Sales': [200, 300, 150, 400, 250, 500],\n",
        "    'Category': ['tv', 'fan', 'tv', 'fan', 'tv', 'fan']\n",
        "}\n",
        "\n",
        "df = pd.DataFrame(data)\n",
        "print(df)\n",
        "# Group by 'Store' and sum 'Sales' for each store\n",
        "grouped = df.groupby('Store')['Sales'].sum()\n",
        "print(grouped)\n",
        "\n"
      ]
    },
    {
      "cell_type": "markdown",
      "source": [
        "#5. Why is Seaborn preferred for statistical visualizations?\n",
        ":- Seaborn is a Python visualization library built on top of Matplotlib that provides a high-level interface for creating attractive and informative statistical graphics. It is particularly suited for statistical visualizations because it simplifies the process of creating complex visualizations\n",
        "#1. Built-in Statistical Functions\n",
        "eaborn provides a range of built-in functions that automatically calculate and display statistical plots. These functions help you perform statistical analysis and visualizations without having to manually compute statistical properties like means, medians, confidence intervals, or regression lines.\n",
        "#2. DataFrame Integration\n",
        "Seaborn is designed to work seamlessly with Pandas DataFrames, which are the standard data structure for working with data in Python. You can pass DataFrames directly to Seaborn functions, and it will automatically handle grouping and aggregation of data.\n",
        "#3.Automatic Handling of Grouped Data\n",
        "Seaborn can automatically handle grouped data, making it particularly useful for visualizing relationships between variables across different categories.\n",
        "#4. Integration with Other Libraries\n",
        "Seaborn is designed to work well with other popular Python libraries in the data science stack."
      ],
      "metadata": {
        "id": "Rn8eKvkXsucU"
      }
    },
    {
      "cell_type": "markdown",
      "source": [
        "#6.What are the differences between NumPy arrays and Python lists ?\n",
        ":-\n",
        "#NumPy Arrays:-\n",
        "* Performance Faster for numerical computations\t.\n",
        "* Memory Efficiency\tMore memory efficient\n",
        "* Specialized for numerical tasks\n",
        "* supports n-dimensional arrays\n",
        "\n",
        "#Python lists:-\n",
        "* Performance Slower for large datasets or numerical tasks\n",
        "* Memory Efficiency\tless memory efficient\n",
        "* General-purpose, flexible\n",
        "* only nested lists\n",
        "\n"
      ],
      "metadata": {
        "id": "YmdtwKhctVp8"
      }
    },
    {
      "cell_type": "markdown",
      "source": [
        "#7.What is a heatmap, and when should it be used ?\n",
        "\n",
        ":- A heatmap is a data visualization technique that uses color to represent the values of a matrix or 2D dataset. In a heatmap, each value in the data is represented by a color gradient, allowing you to easily see patterns, correlations, and trends within the data.\n",
        "#heatmaps are particularly useful when you need to:\n",
        "#Visualize Correlations:\n",
        "Heatmaps are widely used for visualizing correlation matrices, especially in cases where you want to quickly see relationships between multiple numerical variables.\n",
        "#Analyze Patterns in Large Datasets:\n",
        "When you have large datasets with many variables or observations, heatmaps can help you spot patterns or anomalies that are hard to detect through raw data or basic plots.\n",
        "#Compare Multiple Variables:\n",
        "Heatmaps make it easy to compare the magnitude of values across multiple variables in a way that is visually intuitive. The color gradient quickly shows areas of high or low values across rows and columns."
      ],
      "metadata": {
        "id": "vTDtPZQEu_HY"
      }
    },
    {
      "cell_type": "markdown",
      "source": [
        "#8.What does the term “vectorized operation” mean in NumPy?\n",
        ":- In NumPy, the term \"vectorized operation\" refers to the ability to perform element-wise operations on entire arrays without the need for explicit loops in Python.\n",
        "# Element-wise Operations:\n",
        "A vectorized operation allows you to apply arithmetic or mathematical operations like addition, subtraction, multiplication, etc.\n",
        "#Performance:\n",
        "Since the operations are implemented in low-level languages within the NumPy library, vectorized operations are much faster than manually looping through arrays in Python.\n",
        "#Simplicity:\n",
        "Vectorized operations make the code simpler and more concise, avoiding the need for explicit loops or list comprehensions. This makes the code more readable and easier to maintain.\n",
        "#Speed:\n",
        "Vectorized operations are executed much faster than using Python loops\n"
      ],
      "metadata": {
        "id": "OzOIDYTsvvHM"
      }
    },
    {
      "cell_type": "markdown",
      "source": [
        "#9. How does Matplotlib differ from Plotly?\n",
        ":- Matplotlib and Plotly are both powerful libraries in Python used for data visualization, but they have some significant differences in terms of functionality, ease of use, interactivity.\n",
        "#Matplotlib:\n",
        "* Primarily static 2D plots\n",
        "* Interactivity\tLimited\n",
        "* More verbose, low-level customization\n",
        "#Plotly:\n",
        "* Static and interactive 2D and 3D plots\n",
        "* Fully interactive\n",
        "* High-level, easy-to-use for\n",
        "\n",
        "\n",
        "\n",
        "\n",
        "\n"
      ],
      "metadata": {
        "id": "j1TAPV_1xxHf"
      }
    },
    {
      "cell_type": "markdown",
      "source": [
        "#10.  What is the significance of hierarchical indexing in Pandas?\n",
        ":- Hierarchical indexing in Pandas is a powerful feature that allows you to have multiple levels of indexing for rows and/or columns in a DataFrame or Series.\n",
        "#Significance of Hierarchical Indexing in Pandas:\n",
        "#Multi-level Indexing:\n",
        "Hierarchical indexing allows you to have multiple levels of indices (rows or columns), which can represent more complex relationships within the data.\n",
        "#Improved Data Organization:\n",
        "Hierarchical indexing enables a more organized representation of multi-dimensional data in a two-dimensional structure.\n",
        "#Enhanced Flexibility for Grouping:\n",
        "Hierarchical indexing makes it easier to perform grouping operations, where you can group by one or more levels of the index.\n",
        "#Efficient Handling of Large Datasets:\n",
        "When working with large datasets with multiple dimensions, hierarchical indexing allows you to select and filter data efficiently."
      ],
      "metadata": {
        "id": "ds1vZB73zInN"
      }
    },
    {
      "cell_type": "markdown",
      "source": [
        "#11.What is the role of Seaborn's pairplot() function?\n",
        "\n",
        ":- The pairplot() function in Seaborn is a versatile and powerful tool used to create a matrix of scatter plots (or other plot types) for all combinations of variables in a DataFrame.\n",
        "#Use Cases for pairplot():\n",
        "#Exploratory Data Analysis:\n",
        "pairplot() is a great first step when exploring a new dataset. It helps you quickly understand relationships between different numerical features and identify patterns, correlations, or anomalies.\n",
        "#Visualizing Correlations:\n",
        "Pairplots help visualize potential correlations or relationships between multiple variables.\n",
        "#Clustering and Grouping:\n",
        "By using the hue parameter, you can color the data points based on a categorical variable."
      ],
      "metadata": {
        "id": "L3ni1abRzQP-"
      }
    },
    {
      "cell_type": "markdown",
      "source": [
        "#12.What is the purpose of the describe() function in Pandas?\n",
        ":- The describe() function in Pandas is a powerful and commonly used method that provides summary statistics for numerical columns in a DataFrame or Series.\n",
        "#Purpose of describe() in Pandas:\n",
        "#Quick Summary of Data:\n",
        "describe() gives a concise summary of the numerical columns in a dataset, helping to understand the key statistical properties of the data at a glance.\n",
        "#Understanding Distribution:\n",
        "The function provides various statistics (e.g., mean, standard deviation, quartiles) that help describe the central tendency and spread of the data.\n",
        "#Identifying Data Quality Issues:\n",
        "By using describe(), you can also identify potential issues such as missing values, skewed distributions, or outliers.\n",
        "#Comparing Variables:\n",
        "If you have multiple numerical columns, describe() allows you to compare key summary statistics across all columns in one place, making it easier to spot differences between features."
      ],
      "metadata": {
        "id": "KxmeBG-80xI2"
      }
    },
    {
      "cell_type": "markdown",
      "source": [
        "#13.Why is handling missing data important in Pandas?\n",
        ":-\n",
        "#Impact on Analysis:\n",
        "Missing data can lead to misleading or incomplete insights when performing statistical analysis, visualizations, or aggregations.\n",
        "Mean, median, and standard deviation calculations may be skewed by missing values, affecting overall summary statistics.\n",
        "#Impact on Machine Learning:\n",
        "Most machine learning algorithms require the dataset to have complete rows and columns (without missing values).\n",
        "#Incomplete Data:\n",
        "Missing data may also indicate that part of the data collection process was flawed or inconsistent, which could leave out important information.\n",
        "#Statistical Analysis:\n",
        "Calculations like mean, median, standard deviation rely on complete data. If some values are missing and not properly handled, these metrics may be inaccurate."
      ],
      "metadata": {
        "id": "bKtVAgK81U_5"
      }
    },
    {
      "cell_type": "markdown",
      "source": [
        "#14.What are the benefits of using Plotly for data visualization?\n",
        ":-  \n",
        "#1. Interactivity\n",
        "Interactive Charts: Plotly charts are inherently interactive, meaning users can zoom, pan, hover to see data points, and even toggle legends to filter data.\n",
        "\n",
        "Zooming and Panning: Users can zoom in or out and pan across charts, allowing them to focus on specific data ranges and explore patterns in greater detail.\n",
        "\n",
        "Click and Select Features: In some plots , users can click on data points or bars to highlight specific selections, enabling more detailed analysis.\n",
        "#2. Ease of Use and Flexibility\n",
        "High-Level API: Plotly provides both a high-level interface for simple visualizations and a more detailed, low-level API for greater customization and control over the plot . This allows both beginners and advanced users to take advantage of the library.\n",
        "\n",
        "Integration with Pandas: Plotly can be easily integrated with Pandas DataFrames, making it easy to visualize data directly from DataFrames without needing to preprocess the data excessively."
      ],
      "metadata": {
        "id": "bU5iOq7Z13G9"
      }
    },
    {
      "cell_type": "markdown",
      "source": [
        "#15.How does NumPy handle multidimensional arrays?\n",
        ":- NumPy provides powerful tools to handle multidimensional arrays, which are a cornerstone of numerical computing. A multidimensional array is essentially an array with more than one axis.\n",
        "#Shape:\n",
        "The shape of a multidimensional array defines its dimensions and the size of each dimension. It is represented as a tuple of integers, where each integer corresponds to the size of a particular dimension.\n",
        "#Accessing Elements:\n",
        "Elements in a multidimensional array can be accessed using indexing or slicing.\n",
        "#Reshaping:\n",
        "NumPy allows you to change the shape of an array without changing its data, using the reshape() method. The total number of elements must remain the same.\n",
        "#Array Operations:\n",
        "NumPy allows you to perform element-wise operations on multidimensional arrays."
      ],
      "metadata": {
        "id": "IXQ2vsHl2kwz"
      }
    },
    {
      "cell_type": "markdown",
      "source": [
        "#16.What is the role of Bokeh in data visualization?\n",
        ":-\n",
        "Bokeh's core strength lies in its ability to create highly interactive visualizations that allow users to engage with the data. Bokeh makes it simple to create plots that can Zoom in and out on specific regions.\n",
        "#Web-based visualization:\n",
        "One of Bokeh's key benefits is its ability to generate interactive visualizations that can be easily embedded in web applications.\n",
        "#Integration with Other Libraries:\n",
        "Bokeh integrates well with many other Python libraries for data manipulation and analysis making it a great choice for data science workflows.\n",
        "#Flexible Plot Types:\n",
        "Bokeh supports a wide variety of plot types, from basic charts to more complex visualizations"
      ],
      "metadata": {
        "id": "lm07CJAB3NwX"
      }
    },
    {
      "cell_type": "markdown",
      "source": [
        "#17.A Explain the difference between apply() and map() in Pandas.\n",
        ":-  \n",
        "#apply():\n",
        "* Usage on DataFrame and Series\n",
        "* More complex functions\n",
        "* Can be slower, especially on rows.\n",
        "* More flexible, supports more complex operations.\n",
        "\n",
        "#map():\n",
        "* Usage\ton Series\n",
        "* Simple element-wise mappings or transformations\n",
        "* Generally faster for Series\n",
        "* Simple transformations or lookups"
      ],
      "metadata": {
        "id": "xnTHFZLm36ah"
      }
    },
    {
      "cell_type": "markdown",
      "source": [
        "#18. What are some advanced features of NumPy?\n",
        ":-\n",
        "#Broadcasting\n",
        "It is a powerful feature in NumPy that allows operations on arrays of different shapes and sizes in a way that would not normally be compatible.\n",
        "#Advanced Array Manipulation\n",
        "NumPy offers a wide range of array manipulation functions, such as reshaping, transposing, and flattening, that allow you to modify the structure of arrays without copying the data.\n",
        "#Linear Algebra Functions\n",
        "NumPy provides a rich set of linear algebra functions for tasks such as solving systems of linear equations, matrix factorizations, eigenvalue computations, and more.\n",
        "#Fancy Indexing\n",
        "Fancy indexing  allows you to select specific elements from an array using an array of indices."
      ],
      "metadata": {
        "id": "ah7rKIqP5QjW"
      }
    },
    {
      "cell_type": "markdown",
      "source": [
        "#19.A How does Pandas simplify time series analysis ?\n",
        ":-\n",
        "#Datetime Indexing and Manipulation\n",
        "Pandas provides a powerful DatetimeIndex, which is an index for time series data that is capable of handling datetime objects efficiently.\n",
        "#Date Range Generation\n",
        "Pandas provides pd.date_range() to generate sequences of dates/times, allowing you to easily create a time index for a time series.\n",
        "#Time-Based Indexing and Slicing\n",
        "Pandas makes it simple to index and slice data based on dates. With a DatetimeIndex, you can use simple datetime strings to index or slice the data, without needing to manually convert to datetime objects.\n",
        "#Time Shifting and Lagging\n",
        "Pandas provides the shift() method, which allows you to shift the data forward or backward along the time axis. This is particularly useful for time series analysis tasks like lagging"
      ],
      "metadata": {
        "id": "2ICBQU-Q6EHj"
      }
    },
    {
      "cell_type": "markdown",
      "source": [
        "#20. What is the role of a pivot table in Pandas ?\n",
        ":-\n",
        "#Aggregating Data:\n",
        "Pivot tables are often used to summarize data by calculating metrics like sum, mean, count, etc., over specific groups of data.\n",
        "#Data Reshaping:\n",
        "Pivot tables help to reorganize or reshape data from a long format to a wide format (where multiple related observations are spread across columns).\n",
        "#Exploring Trends:\n",
        "Pivot tables are useful for exploring trends over different time periods, categories, or other dimensions.\n",
        "#Comparing Groups:\n",
        "They are particularly helpful for comparing values across categories, such as comparing sales by product and month or by region."
      ],
      "metadata": {
        "id": "2Am_GVKn6ojU"
      }
    },
    {
      "cell_type": "markdown",
      "source": [
        "#21.Why is NumPy's array slicing faster than Python's list slicing?\n",
        ":-\n",
        "#Contiguous memory:\n",
        "NumPy arrays are stored in contiguous blocks of memory, allowing for more efficient slicing without copying data.\n",
        "#Views vs. copies:\n",
        "NumPy slicing typically returns a view, whereas Python list slicing creates a new list and copies the elements.\n",
        "#Efficient stride management:\n",
        "NumPy uses strides to efficiently access elements in a multi-dimensional array, making slicing operations faster.\n",
        "#Homogeneous data:\n",
        "NumPy arrays are homogeneous, allowing for optimized memory usage and faster access patterns.\n",
        "#Lower-level optimizations:\n",
        "NumPy is written in C and uses optimized libraries, while Python lists are managed in pure Python, leading to slower performance.\n"
      ],
      "metadata": {
        "id": "f5udv8NF7VHp"
      }
    },
    {
      "cell_type": "markdown",
      "source": [
        "#22. What are some common use cases for Seaborn?\n",
        ":-\n",
        "1. Understanding the correlation between variables like height and weight, or age and income.\n",
        "2. Exploring correlations and trends among multiple variables, such as different attributes in a dataset.\n",
        "3. Plotting time series data such as stock prices or temperature over time.\n",
        "4. Counting the number of observations."
      ],
      "metadata": {
        "id": "GWG7e3zt73Yk"
      }
    },
    {
      "cell_type": "markdown",
      "source": [
        "#.PRACTICAL"
      ],
      "metadata": {
        "id": "BgZpPMGv8dhv"
      }
    },
    {
      "cell_type": "code",
      "source": [
        "#1  How do you create a 2D NumPy array and calculate the sum of each row?\n",
        "import numpy as np\n",
        "arr = np.array([[1, 2, 3],  # First row\n",
        "                [4, 5, 6],  # Second row\n",
        "                [7, 8, 9]]) # Third row\n",
        "\n",
        "print(\"Original Array:\")\n",
        "print(arr)\n",
        "row_sums = np.sum(arr, axis=1)\n",
        "print(\"\\nSum of each row:\")\n",
        "print(row_sums)"
      ],
      "metadata": {
        "colab": {
          "base_uri": "https://localhost:8080/",
          "height": 0
        },
        "id": "8LP3Fj6Z8aes",
        "outputId": "6096aee6-b006-4ad8-b266-b7271eca2385"
      },
      "execution_count": 3,
      "outputs": [
        {
          "output_type": "stream",
          "name": "stdout",
          "text": [
            "Original Array:\n",
            "[[1 2 3]\n",
            " [4 5 6]\n",
            " [7 8 9]]\n",
            "\n",
            "Sum of each row:\n",
            "[ 6 15 24]\n"
          ]
        }
      ]
    },
    {
      "cell_type": "code",
      "source": [
        "#2  Write a Pandas script to find the mean of a specific column in a DataFrame\n",
        "import pandas as pd\n",
        "data = {\n",
        "    'Name': ['Soumen', 'Shyam', 'Ram', 'Raj', 'Riya'],\n",
        "    'Age': [21, 30, 49, 29, 40],\n",
        "    'Salary': [50000, 60000, 70000, 80000, 90000]\n",
        "}\n",
        "\n",
        "df = pd.DataFrame(data)\n",
        "# Print the original DataFrame\n",
        "print(\"Original DataFrame:\")\n",
        "print(df)\n",
        "# Calculate the mean of the 'Age' column\n",
        "mean_age = df['Age'].mean()\n",
        "print(\"\\nMean of the 'Age' column:\")\n",
        "print(mean_age)\n"
      ],
      "metadata": {
        "colab": {
          "base_uri": "https://localhost:8080/",
          "height": 0
        },
        "id": "lm17oTzy9cGb",
        "outputId": "84e37a35-b64d-43a9-e816-d634963c9585"
      },
      "execution_count": 4,
      "outputs": [
        {
          "output_type": "stream",
          "name": "stdout",
          "text": [
            "Original DataFrame:\n",
            "     Name  Age  Salary\n",
            "0  Soumen   21   50000\n",
            "1   Shyam   30   60000\n",
            "2     Ram   49   70000\n",
            "3     Raj   29   80000\n",
            "4    Riya   40   90000\n",
            "\n",
            "Mean of the 'Age' column:\n",
            "33.8\n"
          ]
        }
      ]
    },
    {
      "cell_type": "code",
      "source": [
        "#3 Create a scatter plot using Matplotlib\n",
        "import matplotlib.pyplot as plt\n",
        "x = [1, 2, 3, 4, 5]\n",
        "y = [2, 4, 6, 8, 10]\n",
        "# Create a scatter plot\n",
        "plt.scatter(x, y, color='orange', marker='o', label= 'points')\n",
        "plt.title('Simple Scatter Plot')\n",
        "plt.xlabel('X-axis')\n",
        "plt.ylabel('Y-axis')\n",
        "plt.grid(True)\n",
        "plt.legend()\n",
        "plt.show()\n"
      ],
      "metadata": {
        "colab": {
          "base_uri": "https://localhost:8080/",
          "height": 472
        },
        "id": "MfBC_sBv-DLe",
        "outputId": "dcf194eb-edc3-41d5-e545-ef146ed373ac"
      },
      "execution_count": 8,
      "outputs": [
        {
          "output_type": "display_data",
          "data": {
            "text/plain": [
              "<Figure size 640x480 with 1 Axes>"
            ],
            "image/png": "[encoded data removed]"
          },
          "metadata": {}
        }
      ]
    },
    {
      "cell_type": "code",
      "source": [
        "#4 How do you calculate the correlation matrix using Seaborn and visualize it with a heatmap.\n",
        "\n",
        "import seaborn as sns\n",
        "import matplotlib.pyplot as plt\n",
        "\n",
        "correlation_matrix = df.corr()\n",
        "plt.figure(figsize=(10, 8))  # Adjust figure size as needed\n",
        "sns.heatmap(correlation_matrix, annot=True, cmap='coolwarm', fmt=\".2f\")\n",
        "plt.title('Correlation Matrix Heatmap')\n",
        "plt.show()"
      ],
      "metadata": {
        "colab": {
          "base_uri": "https://localhost:8080/",
          "height": 699
        },
        "id": "SpDN3cna-l7c",
        "outputId": "30a454a5-dcb8-4153-e8e9-3474f212259d"
      },
      "execution_count": 10,
      "outputs": [
        {
          "output_type": "display_data",
          "data": {
            "text/plain": [
              "<Figure size 1000x800 with 2 Axes>"
            ],
            "image/png": "[encoded data removed]"
          },
          "metadata": {}
        }
      ]
    },
    {
      "cell_type": "code",
      "source": [
        "#5 Generate a bar plot using Plotly\n",
        "import plotly.express as px\n",
        "data = {\n",
        "    'Category': ['A', 'B', 'C', 'D', 'E'],\n",
        "    'Value': [23, 45, 56, 78, 33]\n",
        "}\n",
        "import pandas as pd\n",
        "df = pd.DataFrame(data)\n",
        "fig = px.bar(df, x='Category', y='Value')\n",
        "# Show the plot\n",
        "fig.show()\n"
      ],
      "metadata": {
        "colab": {
          "base_uri": "https://localhost:8080/",
          "height": 542
        },
        "id": "B8O9FKYVCrOl",
        "outputId": "e53c83f7-a9d3-4bfd-a633-849b39dd6763"
      },
      "execution_count": 15,
      "outputs": [
        {
          "output_type": "display_data",
          "data": {
            "text/html": [
              "<html>\n",
              "<head><meta charset=\"utf-8\" /></head>\n",
              "<body>\n",
              "    <div>            <script src=\"https://cdnjs.cloudflare.com/ajax/libs/mathjax/2.7.5/MathJax.js?config=TeX-AMS-MML_SVG\"></script><script type=\"text/javascript\">if (window.MathJax && window.MathJax.Hub && window.MathJax.Hub.Config) {window.MathJax.Hub.Config({SVG: {font: \"STIX-Web\"}});}</script>                <script type=\"text/javascript\">window.PlotlyConfig = {MathJaxConfig: 'local'};</script>\n",
              "        <script charset=\"utf-8\" src=\"https://cdn.plot.ly/plotly-2.35.2.min.js\"></script>                <div id=\"a854e2dc-083d-42c0-bffd-1975ecd58a0e\" class=\"plotly-graph-div\" style=\"height:525px; width:100%;\"></div>            <script type=\"text/javascript\">                                    window.PLOTLYENV=window.PLOTLYENV || {};                                    if (document.getElementById(\"a854e2dc-083d-42c0-bffd-1975ecd58a0e\")) {                    Plotly.newPlot(                        \"a854e2dc-083d-42c0-bffd-1975ecd58a0e\",                        [{\"alignmentgroup\":\"True\",\"hovertemplate\":\"Category=%{x}\\u003cbr\\u003eValue=%{y}\\u003cextra\\u003e\\u003c\\u002fextra\\u003e\",\"legendgroup\":\"\",\"marker\":{\"color\":\"#636efa\",\"pattern\":{\"shape\":\"\"}},\"name\":\"\",\"offsetgroup\":\"\",\"orientation\":\"v\",\"showlegend\":false,\"textposition\":\"auto\",\"x\":[\"A\",\"B\",\"C\",\"D\",\"E\"],\"xaxis\":\"x\",\"y\":[23,45,56,78,33],\"yaxis\":\"y\",\"type\":\"bar\"}],                        {\"template\":{\"data\":{\"histogram2dcontour\":[{\"type\":\"histogram2dcontour\",\"colorbar\":{\"outlinewidth\":0,\"ticks\":\"\"},\"colorscale\":[[0.0,\"#0d0887\"],[0.1111111111111111,\"#46039f\"],[0.2222222222222222,\"#7201a8\"],[0.3333333333333333,\"#9c179e\"],[0.4444444444444444,\"#bd3786\"],[0.5555555555555556,\"#d8576b\"],[0.6666666666666666,\"#ed7953\"],[0.7777777777777778,\"#fb9f3a\"],[0.8888888888888888,\"#fdca26\"],[1.0,\"#f0f921\"]]}],\"choropleth\":[{\"type\":\"choropleth\",\"colorbar\":{\"outlinewidth\":0,\"ticks\":\"\"}}],\"histogram2d\":[{\"type\":\"histogram2d\",\"colorbar\":{\"outlinewidth\":0,\"ticks\":\"\"},\"colorscale\":[[0.0,\"#0d0887\"],[0.1111111111111111,\"#46039f\"],[0.2222222222222222,\"#7201a8\"],[0.3333333333333333,\"#9c179e\"],[0.4444444444444444,\"#bd3786\"],[0.5555555555555556,\"#d8576b\"],[0.6666666666666666,\"#ed7953\"],[0.7777777777777778,\"#fb9f3a\"],[0.8888888888888888,\"#fdca26\"],[1.0,\"#f0f921\"]]}],\"heatmap\":[{\"type\":\"heatmap\",\"colorbar\":{\"outlinewidth\":0,\"ticks\":\"\"},\"colorscale\":[[0.0,\"#0d0887\"],[0.1111111111111111,\"#46039f\"],[0.2222222222222222,\"#7201a8\"],[0.3333333333333333,\"#9c179e\"],[0.4444444444444444,\"#bd3786\"],[0.5555555555555556,\"#d8576b\"],[0.6666666666666666,\"#ed7953\"],[0.7777777777777778,\"#fb9f3a\"],[0.8888888888888888,\"#fdca26\"],[1.0,\"#f0f921\"]]}],\"heatmapgl\":[{\"type\":\"heatmapgl\",\"colorbar\":{\"outlinewidth\":0,\"ticks\":\"\"},\"colorscale\":[[0.0,\"#0d0887\"],[0.1111111111111111,\"#46039f\"],[0.2222222222222222,\"#7201a8\"],[0.3333333333333333,\"#9c179e\"],[0.4444444444444444,\"#bd3786\"],[0.5555555555555556,\"#d8576b\"],[0.6666666666666666,\"#ed7953\"],[0.7777777777777778,\"#fb9f3a\"],[0.8888888888888888,\"#fdca26\"],[1.0,\"#f0f921\"]]}],\"contourcarpet\":[{\"type\":\"contourcarpet\",\"colorbar\":{\"outlinewidth\":0,\"ticks\":\"\"}}],\"contour\":[{\"type\":\"contour\",\"colorbar\":{\"outlinewidth\":0,\"ticks\":\"\"},\"colorscale\":[[0.0,\"#0d0887\"],[0.1111111111111111,\"#46039f\"],[0.2222222222222222,\"#7201a8\"],[0.3333333333333333,\"#9c179e\"],[0.4444444444444444,\"#bd3786\"],[0.5555555555555556,\"#d8576b\"],[0.6666666666666666,\"#ed7953\"],[0.7777777777777778,\"#fb9f3a\"],[0.8888888888888888,\"#fdca26\"],[1.0,\"#f0f921\"]]}],\"surface\":[{\"type\":\"surface\",\"colorbar\":{\"outlinewidth\":0,\"ticks\":\"\"},\"colorscale\":[[0.0,\"#0d0887\"],[0.1111111111111111,\"#46039f\"],[0.2222222222222222,\"#7201a8\"],[0.3333333333333333,\"#9c179e\"],[0.4444444444444444,\"#bd3786\"],[0.5555555555555556,\"#d8576b\"],[0.6666666666666666,\"#ed7953\"],[0.7777777777777778,\"#fb9f3a\"],[0.8888888888888888,\"#fdca26\"],[1.0,\"#f0f921\"]]}],\"mesh3d\":[{\"type\":\"mesh3d\",\"colorbar\":{\"outlinewidth\":0,\"ticks\":\"\"}}],\"scatter\":[{\"fillpattern\":{\"fillmode\":\"overlay\",\"size\":10,\"solidity\":0.2},\"type\":\"scatter\"}],\"parcoords\":[{\"type\":\"parcoords\",\"line\":{\"colorbar\":{\"outlinewidth\":0,\"ticks\":\"\"}}}],\"scatterpolargl\":[{\"type\":\"scatterpolargl\",\"marker\":{\"colorbar\":{\"outlinewidth\":0,\"ticks\":\"\"}}}],\"bar\":[{\"error_x\":{\"color\":\"#2a3f5f\"},\"error_y\":{\"color\":\"#2a3f5f\"},\"marker\":{\"line\":{\"color\":\"#E5ECF6\",\"width\":0.5},\"pattern\":{\"fillmode\":\"overlay\",\"size\":10,\"solidity\":0.2}},\"type\":\"bar\"}],\"scattergeo\":[{\"type\":\"scattergeo\",\"marker\":{\"colorbar\":{\"outlinewidth\":0,\"ticks\":\"\"}}}],\"scatterpolar\":[{\"type\":\"scatterpolar\",\"marker\":{\"colorbar\":{\"outlinewidth\":0,\"ticks\":\"\"}}}],\"histogram\":[{\"marker\":{\"pattern\":{\"fillmode\":\"overlay\",\"size\":10,\"solidity\":0.2}},\"type\":\"histogram\"}],\"scattergl\":[{\"type\":\"scattergl\",\"marker\":{\"colorbar\":{\"outlinewidth\":0,\"ticks\":\"\"}}}],\"scatter3d\":[{\"type\":\"scatter3d\",\"line\":{\"colorbar\":{\"outlinewidth\":0,\"ticks\":\"\"}},\"marker\":{\"colorbar\":{\"outlinewidth\":0,\"ticks\":\"\"}}}],\"scattermapbox\":[{\"type\":\"scattermapbox\",\"marker\":{\"colorbar\":{\"outlinewidth\":0,\"ticks\":\"\"}}}],\"scatterternary\":[{\"type\":\"scatterternary\",\"marker\":{\"colorbar\":{\"outlinewidth\":0,\"ticks\":\"\"}}}],\"scattercarpet\":[{\"type\":\"scattercarpet\",\"marker\":{\"colorbar\":{\"outlinewidth\":0,\"ticks\":\"\"}}}],\"carpet\":[{\"aaxis\":{\"endlinecolor\":\"#2a3f5f\",\"gridcolor\":\"white\",\"linecolor\":\"white\",\"minorgridcolor\":\"white\",\"startlinecolor\":\"#2a3f5f\"},\"baxis\":{\"endlinecolor\":\"#2a3f5f\",\"gridcolor\":\"white\",\"linecolor\":\"white\",\"minorgridcolor\":\"white\",\"startlinecolor\":\"#2a3f5f\"},\"type\":\"carpet\"}],\"table\":[{\"cells\":{\"fill\":{\"color\":\"#EBF0F8\"},\"line\":{\"color\":\"white\"}},\"header\":{\"fill\":{\"color\":\"#C8D4E3\"},\"line\":{\"color\":\"white\"}},\"type\":\"table\"}],\"barpolar\":[{\"marker\":{\"line\":{\"color\":\"#E5ECF6\",\"width\":0.5},\"pattern\":{\"fillmode\":\"overlay\",\"size\":10,\"solidity\":0.2}},\"type\":\"barpolar\"}],\"pie\":[{\"automargin\":true,\"type\":\"pie\"}]},\"layout\":{\"autotypenumbers\":\"strict\",\"colorway\":[\"#636efa\",\"#EF553B\",\"#00cc96\",\"#ab63fa\",\"#FFA15A\",\"#19d3f3\",\"#FF6692\",\"#B6E880\",\"#FF97FF\",\"#FECB52\"],\"font\":{\"color\":\"#2a3f5f\"},\"hovermode\":\"closest\",\"hoverlabel\":{\"align\":\"left\"},\"paper_bgcolor\":\"white\",\"plot_bgcolor\":\"#E5ECF6\",\"polar\":{\"bgcolor\":\"#E5ECF6\",\"angularaxis\":{\"gridcolor\":\"white\",\"linecolor\":\"white\",\"ticks\":\"\"},\"radialaxis\":{\"gridcolor\":\"white\",\"linecolor\":\"white\",\"ticks\":\"\"}},\"ternary\":{\"bgcolor\":\"#E5ECF6\",\"aaxis\":{\"gridcolor\":\"white\",\"linecolor\":\"white\",\"ticks\":\"\"},\"baxis\":{\"gridcolor\":\"white\",\"linecolor\":\"white\",\"ticks\":\"\"},\"caxis\":{\"gridcolor\":\"white\",\"linecolor\":\"white\",\"ticks\":\"\"}},\"coloraxis\":{\"colorbar\":{\"outlinewidth\":0,\"ticks\":\"\"}},\"colorscale\":{\"sequential\":[[0.0,\"#0d0887\"],[0.1111111111111111,\"#46039f\"],[0.2222222222222222,\"#7201a8\"],[0.3333333333333333,\"#9c179e\"],[0.4444444444444444,\"#bd3786\"],[0.5555555555555556,\"#d8576b\"],[0.6666666666666666,\"#ed7953\"],[0.7777777777777778,\"#fb9f3a\"],[0.8888888888888888,\"#fdca26\"],[1.0,\"#f0f921\"]],\"sequentialminus\":[[0.0,\"#0d0887\"],[0.1111111111111111,\"#46039f\"],[0.2222222222222222,\"#7201a8\"],[0.3333333333333333,\"#9c179e\"],[0.4444444444444444,\"#bd3786\"],[0.5555555555555556,\"#d8576b\"],[0.6666666666666666,\"#ed7953\"],[0.7777777777777778,\"#fb9f3a\"],[0.8888888888888888,\"#fdca26\"],[1.0,\"#f0f921\"]],\"diverging\":[[0,\"#8e0152\"],[0.1,\"#c51b7d\"],[0.2,\"#de77ae\"],[0.3,\"#f1b6da\"],[0.4,\"#fde0ef\"],[0.5,\"#f7f7f7\"],[0.6,\"#e6f5d0\"],[0.7,\"#b8e186\"],[0.8,\"#7fbc41\"],[0.9,\"#4d9221\"],[1,\"#276419\"]]},\"xaxis\":{\"gridcolor\":\"white\",\"linecolor\":\"white\",\"ticks\":\"\",\"title\":{\"standoff\":15},\"zerolinecolor\":\"white\",\"automargin\":true,\"zerolinewidth\":2},\"yaxis\":{\"gridcolor\":\"white\",\"linecolor\":\"white\",\"ticks\":\"\",\"title\":{\"standoff\":15},\"zerolinecolor\":\"white\",\"automargin\":true,\"zerolinewidth\":2},\"scene\":{\"xaxis\":{\"backgroundcolor\":\"#E5ECF6\",\"gridcolor\":\"white\",\"linecolor\":\"white\",\"showbackground\":true,\"ticks\":\"\",\"zerolinecolor\":\"white\",\"gridwidth\":2},\"yaxis\":{\"backgroundcolor\":\"#E5ECF6\",\"gridcolor\":\"white\",\"linecolor\":\"white\",\"showbackground\":true,\"ticks\":\"\",\"zerolinecolor\":\"white\",\"gridwidth\":2},\"zaxis\":{\"backgroundcolor\":\"#E5ECF6\",\"gridcolor\":\"white\",\"linecolor\":\"white\",\"showbackground\":true,\"ticks\":\"\",\"zerolinecolor\":\"white\",\"gridwidth\":2}},\"shapedefaults\":{\"line\":{\"color\":\"#2a3f5f\"}},\"annotationdefaults\":{\"arrowcolor\":\"#2a3f5f\",\"arrowhead\":0,\"arrowwidth\":1},\"geo\":{\"bgcolor\":\"white\",\"landcolor\":\"#E5ECF6\",\"subunitcolor\":\"white\",\"showland\":true,\"showlakes\":true,\"lakecolor\":\"white\"},\"title\":{\"x\":0.05},\"mapbox\":{\"style\":\"light\"}}},\"xaxis\":{\"anchor\":\"y\",\"domain\":[0.0,1.0],\"title\":{\"text\":\"Category\"}},\"yaxis\":{\"anchor\":\"x\",\"domain\":[0.0,1.0],\"title\":{\"text\":\"Value\"}},\"legend\":{\"tracegroupgap\":0},\"margin\":{\"t\":60},\"barmode\":\"relative\"},                        {\"responsive\": true}                    ).then(function(){\n",
              "                            \n",
              "var gd = document.getElementById('a854e2dc-083d-42c0-bffd-1975ecd58a0e');\n",
              "var x = new MutationObserver(function (mutations, observer) {{\n",
              "        var display = window.getComputedStyle(gd).display;\n",
              "        if (!display || display === 'none') {{\n",
              "            console.log([gd, 'removed!']);\n",
              "            Plotly.purge(gd);\n",
              "            observer.disconnect();\n",
              "        }}\n",
              "}});\n",
              "\n",
              "// Listen for the removal of the full notebook cells\n",
              "var notebookContainer = gd.closest('#notebook-container');\n",
              "if (notebookContainer) {{\n",
              "    x.observe(notebookContainer, {childList: true});\n",
              "}}\n",
              "\n",
              "// Listen for the clearing of the current output cell\n",
              "var outputEl = gd.closest('.output');\n",
              "if (outputEl) {{\n",
              "    x.observe(outputEl, {childList: true});\n",
              "}}\n",
              "\n",
              "                        })                };                            </script>        </div>\n",
              "</body>\n",
              "</html>"
            ]
          },
          "metadata": {}
        }
      ]
    },
    {
      "cell_type": "code",
      "source": [
        "#6 A Create a DataFrame and add a new column based on an existing column.\n",
        "import pandas as pd\n",
        "data = {\n",
        "    'Name': ['Soumen', 'Shyam', 'Ram', 'Raj', 'Riya'],\n",
        "    'Age': [21, 30, 49, 29, 40],\n",
        "    'Salary': [50000, 60000, 70000, 80000, 90000]\n",
        "}\n",
        "df = pd.DataFrame(data)\n",
        "df['Salary_in_Thousands'] = df['Salary'] / 1000\n",
        "print(df)\n"
      ],
      "metadata": {
        "colab": {
          "base_uri": "https://localhost:8080/",
          "height": 0
        },
        "id": "WbcbhIm4EAox",
        "outputId": "ca68688c-155d-46be-d319-ea8d7b69e0f3"
      },
      "execution_count": 17,
      "outputs": [
        {
          "output_type": "stream",
          "name": "stdout",
          "text": [
            "     Name  Age  Salary  Salary_in_Thousands\n",
            "0  Soumen   21   50000                 50.0\n",
            "1   Shyam   30   60000                 60.0\n",
            "2     Ram   49   70000                 70.0\n",
            "3     Raj   29   80000                 80.0\n",
            "4    Riya   40   90000                 90.0\n"
          ]
        }
      ]
    },
    {
      "cell_type": "code",
      "source": [
        "#7 Write a program to perform element-wise multiplication of two NumPy arrays.\n",
        "import numpy as np\n",
        "element1 = np.array([1, 2, 3, 4, 5])\n",
        "element2 = np.array([5, 4, 3, 2, 1])\n",
        "result = element1 * element2\n",
        "print(element1)\n",
        "print(element2)\n",
        "print(\"Element-wise multiplication result:\", result)\n"
      ],
      "metadata": {
        "colab": {
          "base_uri": "https://localhost:8080/",
          "height": 0
        },
        "id": "d7TeZ7xaEhBK",
        "outputId": "243202ac-cba8-4854-bcaf-68e3815ba372"
      },
      "execution_count": 20,
      "outputs": [
        {
          "output_type": "stream",
          "name": "stdout",
          "text": [
            "[1 2 3 4 5]\n",
            "[5 4 3 2 1]\n",
            "Element-wise multiplication result: [5 8 9 8 5]\n"
          ]
        }
      ]
    },
    {
      "cell_type": "code",
      "source": [
        "#8 Create a line plot with multiple lines using Matplotlib.\n",
        "import matplotlib.pyplot as plt\n",
        "x = [0, 1, 2, 3, 4, 5]  # X-axis data\n",
        "# Y-axis data for each line\n",
        "y1 = [0, 1, 4, 9, 16, 25]\n",
        "y2 = [0, 1, 2, 3, 4, 5]\n",
        "y3 = [0, 1, 3, 6, 10, 15]\n",
        "# Create the line plot with multiple lines\n",
        "plt.plot(x, y1, label='y = x^2', color='blue', marker='o')  # Line 1\n",
        "plt.plot(x, y2, label='y = x', color='green', marker='s')  # Line 2\n",
        "plt.plot(x, y3, label='y = sum(1 to x)', color='red', marker='*')  # Line 3\n",
        "# Adding title and labels\n",
        "plt.title(\"Line Plot with Multiple Lines\")\n",
        "plt.xlabel(\"X-axis\")\n",
        "plt.ylabel(\"Y-axis\")\n",
        "# Show the legend\n",
        "plt.legend()\n",
        "# Display the plot\n",
        "plt.grid(True)  # Add gridlines for better readability\n",
        "plt.show()\n"
      ],
      "metadata": {
        "colab": {
          "base_uri": "https://localhost:8080/",
          "height": 472
        },
        "id": "CY215TTHFhfc",
        "outputId": "a8c42924-52c1-4eeb-c370-1f257fc24c3f"
      },
      "execution_count": 29,
      "outputs": [
        {
          "output_type": "display_data",
          "data": {
            "text/plain": [
              "<Figure size 640x480 with 1 Axes>"
            ],
            "image/png": "[encoded data removed]"
          },
          "metadata": {}
        }
      ]
    },
    {
      "cell_type": "code",
      "source": [
        "#9 Generate a Pandas DataFrame and filter rows where a column value is greater than a threshold.\n",
        "import pandas as pd\n",
        "data = {\n",
        "    'Name': ['Soumen', 'Shyam', 'Ram', 'Raj', 'Riya'],\n",
        "    'Age': [21, 30, 49, 29, 40],\n",
        "    'Salary': [50000, 63000, 71040, 87000, 67000]\n",
        "}\n",
        "df = pd.DataFrame(data)\n",
        "threshold = 65000\n",
        "filtered_df = df[df['Salary'] > threshold]\n",
        "# Print the filtered DataFrame\n",
        "print(filtered_df)\n"
      ],
      "metadata": {
        "colab": {
          "base_uri": "https://localhost:8080/",
          "height": 0
        },
        "id": "G6rQOJOmF8_Z",
        "outputId": "05841f27-4541-4198-ae46-769a827560d8"
      },
      "execution_count": 30,
      "outputs": [
        {
          "output_type": "stream",
          "name": "stdout",
          "text": [
            "   Name  Age  Salary\n",
            "2   Ram   49   71040\n",
            "3   Raj   29   87000\n",
            "4  Riya   40   67000\n"
          ]
        }
      ]
    },
    {
      "cell_type": "code",
      "source": [
        "#10 Create a histogram using Seaborn to visualize a distribution.\n",
        "import seaborn as sns\n",
        "import matplotlib.pyplot as plt\n",
        "import numpy as np\n",
        "data = np.random.normal(loc=0, scale=1, size=1000)\n",
        "sns.histplot(data, kde=True, color='orange')\n",
        "plt.title('Histogram with Seaborn')\n",
        "plt.xlabel('Value')\n",
        "plt.ylabel('Freq')\n",
        "plt.show()\n"
      ],
      "metadata": {
        "colab": {
          "base_uri": "https://localhost:8080/",
          "height": 472
        },
        "id": "g15hAxBRHsXS",
        "outputId": "6f092cc3-4c36-4794-e097-38ee65a4e491"
      },
      "execution_count": 34,
      "outputs": [
        {
          "output_type": "display_data",
          "data": {
            "text/plain": [
              "<Figure size 640x480 with 1 Axes>"
            ],
            "image/png": "[encoded data removed]"
          },
          "metadata": {}
        }
      ]
    },
    {
      "cell_type": "code",
      "source": [
        "#11 Perform matrix multiplication using NumPy.\n",
        "import numpy as np\n",
        "A = np.array([[1, 2],\n",
        "              [3, 4]])\n",
        "B = np.array([[5, 6],\n",
        "              [7, 8]])\n",
        "result = np.dot(A, B)\n",
        "print(A)\n",
        "print(B)\n",
        "print(\"\\n Matrix Multiplication:\")\n",
        "print(result)\n"
      ],
      "metadata": {
        "colab": {
          "base_uri": "https://localhost:8080/",
          "height": 0
        },
        "id": "sOFP-V1OIdf1",
        "outputId": "469527b1-f802-4e5d-8aa9-421c4a799e5d"
      },
      "execution_count": 36,
      "outputs": [
        {
          "output_type": "stream",
          "name": "stdout",
          "text": [
            "[[1 2]\n",
            " [3 4]]\n",
            "[[5 6]\n",
            " [7 8]]\n",
            "\n",
            " Matrix Multiplication:\n",
            "[[19 22]\n",
            " [43 50]]\n"
          ]
        }
      ]
    },
    {
      "cell_type": "code",
      "source": [
        "#12  Use Pandas to load a CSV file and display its first 5 rows\n",
        "import pandas as pd\n",
        "data = {\n",
        "    'Name': ['Soumen', 'Shyam', 'Ram', 'Raj', 'Riya','priya'],\n",
        "    'Age': [21, 30, 49, 29, 40,32],\n",
        "    'Salary': [50000, 63000, 71040, 87000, 67000,89000]\n",
        "}\n",
        "df = pd.DataFrame(data)\n",
        "df.to_csv('data.csv', index=False)\n",
        "import pandas as pd\n",
        "# Load the CSV file\n",
        "df = pd.read_csv('data.csv')\n",
        "# Display the first 5 rows\n",
        "print(df.head())\n"
      ],
      "metadata": {
        "colab": {
          "base_uri": "https://localhost:8080/",
          "height": 0
        },
        "id": "v2xZ7AgWJRTQ",
        "outputId": "34d6a19e-7002-43a0-e83b-32fd0603c3cd"
      },
      "execution_count": 52,
      "outputs": [
        {
          "output_type": "stream",
          "name": "stdout",
          "text": [
            "     Name  Age  Salary\n",
            "0  Soumen   21   50000\n",
            "1   Shyam   30   63000\n",
            "2     Ram   49   71040\n",
            "3     Raj   29   87000\n",
            "4    Riya   40   67000\n"
          ]
        }
      ]
    },
    {
      "cell_type": "code",
      "source": [
        "#13  Create a 3D scatter plot using Plotly.\n",
        "import plotly.graph_objects as go\n",
        "import numpy as np\n",
        "np.random.seed(10)\n",
        "x = np.random.rand(100)\n",
        "y = np.random.rand(100)\n",
        "z = np.random.rand(100)\n",
        "fig = go.Figure(data=[go.Scatter3d(\n",
        "    x=x,\n",
        "    y=y,\n",
        "    z=z,\n",
        "    mode='markers',\n",
        "    marker=dict(size=5, color='blue',)\n",
        ")])\n",
        "fig.update_layout(\n",
        "    title=\"3D Scatter Plot\",\n",
        "    scene=dict(\n",
        "        xaxis_title='X Axis',\n",
        "        yaxis_title='Y Axis',\n",
        "        zaxis_title='Z Axis'\n",
        "    )\n",
        ")\n",
        "fig.show()\n"
      ],
      "metadata": {
        "colab": {
          "base_uri": "https://localhost:8080/",
          "height": 542
        },
        "id": "Ak40QDKFLQCL",
        "outputId": "006b15af-7513-481f-96d4-4aa5e6935708"
      },
      "execution_count": 43,
      "outputs": [
        {
          "output_type": "display_data",
          "data": {
            "text/html": [
              "<html>\n",
              "<head><meta charset=\"utf-8\" /></head>\n",
              "<body>\n",
              "    <div>            <script src=\"https://cdnjs.cloudflare.com/ajax/libs/mathjax/2.7.5/MathJax.js?config=TeX-AMS-MML_SVG\"></script><script type=\"text/javascript\">if (window.MathJax && window.MathJax.Hub && window.MathJax.Hub.Config) {window.MathJax.Hub.Config({SVG: {font: \"STIX-Web\"}});}</script>                <script type=\"text/javascript\">window.PlotlyConfig = {MathJaxConfig: 'local'};</script>\n",
              "        <script charset=\"utf-8\" src=\"https://cdn.plot.ly/plotly-2.35.2.min.js\"></script>                <div id=\"8a07626f-ca35-4e59-9145-2a958d176f39\" class=\"plotly-graph-div\" style=\"height:525px; width:100%;\"></div>            <script type=\"text/javascript\">                                    window.PLOTLYENV=window.PLOTLYENV || {};                                    if (document.getElementById(\"8a07626f-ca35-4e59-9145-2a958d176f39\")) {                    Plotly.newPlot(                        \"8a07626f-ca35-4e59-9145-2a958d176f39\",                        [{\"marker\":{\"color\":\"blue\",\"size\":5},\"mode\":\"markers\",\"x\":[0.771320643266746,0.0207519493594015,0.6336482349262754,0.7488038825386119,0.4985070123025904,0.22479664553084766,0.19806286475962398,0.7605307121989587,0.16911083656253545,0.08833981417401027,0.6853598183677972,0.9533933461949365,0.003948266327914451,0.5121922633857766,0.8126209616521135,0.6125260668293881,0.7217553174317995,0.29187606817063316,0.9177741225129434,0.7145757833976906,0.5425443680112613,0.14217004760152696,0.3733407600514692,0.6741336150663453,0.4418331744229961,0.4340139933332937,0.6177669784693172,0.5131382425543909,0.6503971819314672,0.6010389534045444,0.8052231968327465,0.5216471523936341,0.9086488808086682,0.3192360889885453,0.09045934927090737,0.30070005663620336,0.11398436186354977,0.8286813263076767,0.04689631938924976,0.6262871483113925,0.5475861559192435,0.8192869956700687,0.1989475396788123,0.8568503024577332,0.3516526394320879,0.7546476915298572,0.2959617068796787,0.8839364795611863,0.3255116378322488,0.16501589771914849,0.3925292439465873,0.0934603745586503,0.8211056578369285,0.15115201964256386,0.3841144486921996,0.9442607122388011,0.9876254749018722,0.4563045470947841,0.8261228438427398,0.25137413420705934,0.5973716482308843,0.9028317603316274,0.5345579488018151,0.5902013629854229,0.03928176722538734,0.3571817586345363,0.07961309015596418,0.30545991834281827,0.330719311982132,0.7738302962105958,0.039959208689977266,0.42949217843163834,0.3149268718426883,0.6364911430675446,0.34634715008003303,0.04309735620499444,0.879915174517916,0.763240587143681,0.8780966427248583,0.41750914383926696,0.6055775643937568,0.5134666274082884,0.5978366479629736,0.2622156611319503,0.30087130894070724,0.025399782050106068,0.30306256065103476,0.24207587540352737,0.5575781886626442,0.5655070198881675,0.47513224741505056,0.2927979762895091,0.06425106069482445,0.9788191457576426,0.33970784363786366,0.4950486308824543,0.9770807259226818,0.4407738249006665,0.3182728054789512,0.5197969858753801],\"y\":[0.5781364298824675,0.8539337505004864,0.06809727353795003,0.46453080777933253,0.7819491186191484,0.7186028103822503,0.5860219800531759,0.037094413234407875,0.350656391283133,0.563190684492745,0.29972987242456284,0.5123341532735493,0.6734669252847205,0.1591937333780935,0.05047767015399762,0.33781588706467947,0.10806377277945256,0.17890280857109042,0.8858270961677057,0.3653649712141158,0.21876934917953672,0.7524961702186028,0.10687958439356915,0.7446032407755606,0.46978529344049447,0.5982556712791092,0.14762019228529766,0.18403482209315125,0.6450721264682419,0.048628006263405577,0.24861250780276944,0.5424085162280042,0.2267733432700092,0.3814115349046321,0.9222327869035463,0.9253568728677768,0.566749924575,0.5334708849890026,0.014860024633228108,0.977899263402005,0.5730289040331858,0.791756996276624,0.5615573602763689,0.8773352415649347,0.5841958285306755,0.7088498263689552,0.14853345135645857,0.4284507389678964,0.6938900663424117,0.10461974452285316,0.4396052377745905,0.16620214770453368,0.5069786292640474,0.8190358641362125,0.09010673472443853,0.8000687506941452,0.5651263539578045,0.5893477116806074,0.1981006572162689,0.4361182553388343,0.29590376222083736,0.03755767594167769,0.030684840372946276,0.45310500020123345,0.7448640769500677,0.557295406236397,0.3851135995654865,0.1680727975326186,0.8382613207036929,0.5990517974614926,0.7827148182449711,0.8485091818947146,0.6031629758620348,0.7810606172902821,0.6157368760335693,0.021165191172154985,0.750464610487491,0.1760421332836939,0.458514206237273,0.5131227077322451,0.4840208902868258,0.8443857945393476,0.1748138948221194,0.0146348751032499,0.8487640718112321,0.7426745772994341,0.4566975353201722,0.41689840704937775,0.11672951094696327,0.3386791329893397,0.09465904074365306,0.7158308727513142,0.07708540441603862,0.20595025836897252,0.5737762314512022,0.293831555203768,0.6557267427145982,0.8035683477432196,0.35121350299640874,0.09344037694376706],\"z\":[0.8133160836708041,0.7848667182769469,0.3934191124365154,0.8644791938019533,0.38403076811573245,0.2573028872050038,0.8294019198272359,0.7363827038385634,0.5076009080549594,0.644326615041417,0.2131865653786481,0.8957089487035581,0.9659462515078151,0.31700156230578813,0.8655526182272831,0.310283706940119,0.025263945431817092,0.049195157773728626,0.1846268380142655,0.06903334161725405,0.2574754234045431,0.9135817315706746,0.4578495119744105,0.13021178947959489,0.8098916654001787,0.40346984048066603,0.02443264498316411,0.8568310426277526,0.2742948190153962,0.7091059640719906,0.3557723428236633,0.7943090618265342,0.8446188611438505,0.5381475171399585,0.5590865164032583,0.12250998143741987,0.37764191857408025,0.4287473291290427,0.5112086462854654,0.8917625699356942,0.3002106115940131,0.3964418788784505,0.7932732330276141,0.41227607735340066,0.18486754999091237,0.8402473160883905,0.5692713997012885,0.060050205550819635,0.9889169741962012,0.22878233320196528,0.6147017129801696,0.3680266808354594,0.8027759363482464,0.6275618527056289,0.8212164761982603,0.28825313879221637,0.2747951315927687,0.60105189113251,0.9385141972093375,0.7072963093414373,0.26340316495675753,0.12233592111500502,0.45872422918986366,0.9748124993966691,0.6805743744444447,0.19325373228646103,0.046739227161395,0.9526439367706239,0.8586490154684265,0.8279031757485712,0.9639005228382829,0.5989364490726748,0.9309158358477515,0.1467688142787268,0.11396030875469221,0.37202890217383444,0.7665601265709068,0.32114203146495945,0.6380350813446267,0.009221101669878884,0.543465038474916,0.33775464688518353,0.8980243088495153,0.9407070384832232,0.3841218491535694,0.39611779234059696,0.897279944819348,0.058822368101847045,0.40537928842956905,0.1301755406309124,0.08696940892461757,0.7839642869589878,0.3045733553466201,0.584055872555269,0.8784661784266631,0.8807920606135405,0.6009542072456764,0.6452277456840332,0.05662820283810621,0.2974840969759218],\"type\":\"scatter3d\"}],                        {\"template\":{\"data\":{\"histogram2dcontour\":[{\"type\":\"histogram2dcontour\",\"colorbar\":{\"outlinewidth\":0,\"ticks\":\"\"},\"colorscale\":[[0.0,\"#0d0887\"],[0.1111111111111111,\"#46039f\"],[0.2222222222222222,\"#7201a8\"],[0.3333333333333333,\"#9c179e\"],[0.4444444444444444,\"#bd3786\"],[0.5555555555555556,\"#d8576b\"],[0.6666666666666666,\"#ed7953\"],[0.7777777777777778,\"#fb9f3a\"],[0.8888888888888888,\"#fdca26\"],[1.0,\"#f0f921\"]]}],\"choropleth\":[{\"type\":\"choropleth\",\"colorbar\":{\"outlinewidth\":0,\"ticks\":\"\"}}],\"histogram2d\":[{\"type\":\"histogram2d\",\"colorbar\":{\"outlinewidth\":0,\"ticks\":\"\"},\"colorscale\":[[0.0,\"#0d0887\"],[0.1111111111111111,\"#46039f\"],[0.2222222222222222,\"#7201a8\"],[0.3333333333333333,\"#9c179e\"],[0.4444444444444444,\"#bd3786\"],[0.5555555555555556,\"#d8576b\"],[0.6666666666666666,\"#ed7953\"],[0.7777777777777778,\"#fb9f3a\"],[0.8888888888888888,\"#fdca26\"],[1.0,\"#f0f921\"]]}],\"heatmap\":[{\"type\":\"heatmap\",\"colorbar\":{\"outlinewidth\":0,\"ticks\":\"\"},\"colorscale\":[[0.0,\"#0d0887\"],[0.1111111111111111,\"#46039f\"],[0.2222222222222222,\"#7201a8\"],[0.3333333333333333,\"#9c179e\"],[0.4444444444444444,\"#bd3786\"],[0.5555555555555556,\"#d8576b\"],[0.6666666666666666,\"#ed7953\"],[0.7777777777777778,\"#fb9f3a\"],[0.8888888888888888,\"#fdca26\"],[1.0,\"#f0f921\"]]}],\"heatmapgl\":[{\"type\":\"heatmapgl\",\"colorbar\":{\"outlinewidth\":0,\"ticks\":\"\"},\"colorscale\":[[0.0,\"#0d0887\"],[0.1111111111111111,\"#46039f\"],[0.2222222222222222,\"#7201a8\"],[0.3333333333333333,\"#9c179e\"],[0.4444444444444444,\"#bd3786\"],[0.5555555555555556,\"#d8576b\"],[0.6666666666666666,\"#ed7953\"],[0.7777777777777778,\"#fb9f3a\"],[0.8888888888888888,\"#fdca26\"],[1.0,\"#f0f921\"]]}],\"contourcarpet\":[{\"type\":\"contourcarpet\",\"colorbar\":{\"outlinewidth\":0,\"ticks\":\"\"}}],\"contour\":[{\"type\":\"contour\",\"colorbar\":{\"outlinewidth\":0,\"ticks\":\"\"},\"colorscale\":[[0.0,\"#0d0887\"],[0.1111111111111111,\"#46039f\"],[0.2222222222222222,\"#7201a8\"],[0.3333333333333333,\"#9c179e\"],[0.4444444444444444,\"#bd3786\"],[0.5555555555555556,\"#d8576b\"],[0.6666666666666666,\"#ed7953\"],[0.7777777777777778,\"#fb9f3a\"],[0.8888888888888888,\"#fdca26\"],[1.0,\"#f0f921\"]]}],\"surface\":[{\"type\":\"surface\",\"colorbar\":{\"outlinewidth\":0,\"ticks\":\"\"},\"colorscale\":[[0.0,\"#0d0887\"],[0.1111111111111111,\"#46039f\"],[0.2222222222222222,\"#7201a8\"],[0.3333333333333333,\"#9c179e\"],[0.4444444444444444,\"#bd3786\"],[0.5555555555555556,\"#d8576b\"],[0.6666666666666666,\"#ed7953\"],[0.7777777777777778,\"#fb9f3a\"],[0.8888888888888888,\"#fdca26\"],[1.0,\"#f0f921\"]]}],\"mesh3d\":[{\"type\":\"mesh3d\",\"colorbar\":{\"outlinewidth\":0,\"ticks\":\"\"}}],\"scatter\":[{\"fillpattern\":{\"fillmode\":\"overlay\",\"size\":10,\"solidity\":0.2},\"type\":\"scatter\"}],\"parcoords\":[{\"type\":\"parcoords\",\"line\":{\"colorbar\":{\"outlinewidth\":0,\"ticks\":\"\"}}}],\"scatterpolargl\":[{\"type\":\"scatterpolargl\",\"marker\":{\"colorbar\":{\"outlinewidth\":0,\"ticks\":\"\"}}}],\"bar\":[{\"error_x\":{\"color\":\"#2a3f5f\"},\"error_y\":{\"color\":\"#2a3f5f\"},\"marker\":{\"line\":{\"color\":\"#E5ECF6\",\"width\":0.5},\"pattern\":{\"fillmode\":\"overlay\",\"size\":10,\"solidity\":0.2}},\"type\":\"bar\"}],\"scattergeo\":[{\"type\":\"scattergeo\",\"marker\":{\"colorbar\":{\"outlinewidth\":0,\"ticks\":\"\"}}}],\"scatterpolar\":[{\"type\":\"scatterpolar\",\"marker\":{\"colorbar\":{\"outlinewidth\":0,\"ticks\":\"\"}}}],\"histogram\":[{\"marker\":{\"pattern\":{\"fillmode\":\"overlay\",\"size\":10,\"solidity\":0.2}},\"type\":\"histogram\"}],\"scattergl\":[{\"type\":\"scattergl\",\"marker\":{\"colorbar\":{\"outlinewidth\":0,\"ticks\":\"\"}}}],\"scatter3d\":[{\"type\":\"scatter3d\",\"line\":{\"colorbar\":{\"outlinewidth\":0,\"ticks\":\"\"}},\"marker\":{\"colorbar\":{\"outlinewidth\":0,\"ticks\":\"\"}}}],\"scattermapbox\":[{\"type\":\"scattermapbox\",\"marker\":{\"colorbar\":{\"outlinewidth\":0,\"ticks\":\"\"}}}],\"scatterternary\":[{\"type\":\"scatterternary\",\"marker\":{\"colorbar\":{\"outlinewidth\":0,\"ticks\":\"\"}}}],\"scattercarpet\":[{\"type\":\"scattercarpet\",\"marker\":{\"colorbar\":{\"outlinewidth\":0,\"ticks\":\"\"}}}],\"carpet\":[{\"aaxis\":{\"endlinecolor\":\"#2a3f5f\",\"gridcolor\":\"white\",\"linecolor\":\"white\",\"minorgridcolor\":\"white\",\"startlinecolor\":\"#2a3f5f\"},\"baxis\":{\"endlinecolor\":\"#2a3f5f\",\"gridcolor\":\"white\",\"linecolor\":\"white\",\"minorgridcolor\":\"white\",\"startlinecolor\":\"#2a3f5f\"},\"type\":\"carpet\"}],\"table\":[{\"cells\":{\"fill\":{\"color\":\"#EBF0F8\"},\"line\":{\"color\":\"white\"}},\"header\":{\"fill\":{\"color\":\"#C8D4E3\"},\"line\":{\"color\":\"white\"}},\"type\":\"table\"}],\"barpolar\":[{\"marker\":{\"line\":{\"color\":\"#E5ECF6\",\"width\":0.5},\"pattern\":{\"fillmode\":\"overlay\",\"size\":10,\"solidity\":0.2}},\"type\":\"barpolar\"}],\"pie\":[{\"automargin\":true,\"type\":\"pie\"}]},\"layout\":{\"autotypenumbers\":\"strict\",\"colorway\":[\"#636efa\",\"#EF553B\",\"#00cc96\",\"#ab63fa\",\"#FFA15A\",\"#19d3f3\",\"#FF6692\",\"#B6E880\",\"#FF97FF\",\"#FECB52\"],\"font\":{\"color\":\"#2a3f5f\"},\"hovermode\":\"closest\",\"hoverlabel\":{\"align\":\"left\"},\"paper_bgcolor\":\"white\",\"plot_bgcolor\":\"#E5ECF6\",\"polar\":{\"bgcolor\":\"#E5ECF6\",\"angularaxis\":{\"gridcolor\":\"white\",\"linecolor\":\"white\",\"ticks\":\"\"},\"radialaxis\":{\"gridcolor\":\"white\",\"linecolor\":\"white\",\"ticks\":\"\"}},\"ternary\":{\"bgcolor\":\"#E5ECF6\",\"aaxis\":{\"gridcolor\":\"white\",\"linecolor\":\"white\",\"ticks\":\"\"},\"baxis\":{\"gridcolor\":\"white\",\"linecolor\":\"white\",\"ticks\":\"\"},\"caxis\":{\"gridcolor\":\"white\",\"linecolor\":\"white\",\"ticks\":\"\"}},\"coloraxis\":{\"colorbar\":{\"outlinewidth\":0,\"ticks\":\"\"}},\"colorscale\":{\"sequential\":[[0.0,\"#0d0887\"],[0.1111111111111111,\"#46039f\"],[0.2222222222222222,\"#7201a8\"],[0.3333333333333333,\"#9c179e\"],[0.4444444444444444,\"#bd3786\"],[0.5555555555555556,\"#d8576b\"],[0.6666666666666666,\"#ed7953\"],[0.7777777777777778,\"#fb9f3a\"],[0.8888888888888888,\"#fdca26\"],[1.0,\"#f0f921\"]],\"sequentialminus\":[[0.0,\"#0d0887\"],[0.1111111111111111,\"#46039f\"],[0.2222222222222222,\"#7201a8\"],[0.3333333333333333,\"#9c179e\"],[0.4444444444444444,\"#bd3786\"],[0.5555555555555556,\"#d8576b\"],[0.6666666666666666,\"#ed7953\"],[0.7777777777777778,\"#fb9f3a\"],[0.8888888888888888,\"#fdca26\"],[1.0,\"#f0f921\"]],\"diverging\":[[0,\"#8e0152\"],[0.1,\"#c51b7d\"],[0.2,\"#de77ae\"],[0.3,\"#f1b6da\"],[0.4,\"#fde0ef\"],[0.5,\"#f7f7f7\"],[0.6,\"#e6f5d0\"],[0.7,\"#b8e186\"],[0.8,\"#7fbc41\"],[0.9,\"#4d9221\"],[1,\"#276419\"]]},\"xaxis\":{\"gridcolor\":\"white\",\"linecolor\":\"white\",\"ticks\":\"\",\"title\":{\"standoff\":15},\"zerolinecolor\":\"white\",\"automargin\":true,\"zerolinewidth\":2},\"yaxis\":{\"gridcolor\":\"white\",\"linecolor\":\"white\",\"ticks\":\"\",\"title\":{\"standoff\":15},\"zerolinecolor\":\"white\",\"automargin\":true,\"zerolinewidth\":2},\"scene\":{\"xaxis\":{\"backgroundcolor\":\"#E5ECF6\",\"gridcolor\":\"white\",\"linecolor\":\"white\",\"showbackground\":true,\"ticks\":\"\",\"zerolinecolor\":\"white\",\"gridwidth\":2},\"yaxis\":{\"backgroundcolor\":\"#E5ECF6\",\"gridcolor\":\"white\",\"linecolor\":\"white\",\"showbackground\":true,\"ticks\":\"\",\"zerolinecolor\":\"white\",\"gridwidth\":2},\"zaxis\":{\"backgroundcolor\":\"#E5ECF6\",\"gridcolor\":\"white\",\"linecolor\":\"white\",\"showbackground\":true,\"ticks\":\"\",\"zerolinecolor\":\"white\",\"gridwidth\":2}},\"shapedefaults\":{\"line\":{\"color\":\"#2a3f5f\"}},\"annotationdefaults\":{\"arrowcolor\":\"#2a3f5f\",\"arrowhead\":0,\"arrowwidth\":1},\"geo\":{\"bgcolor\":\"white\",\"landcolor\":\"#E5ECF6\",\"subunitcolor\":\"white\",\"showland\":true,\"showlakes\":true,\"lakecolor\":\"white\"},\"title\":{\"x\":0.05},\"mapbox\":{\"style\":\"light\"}}},\"title\":{\"text\":\"3D Scatter Plot\"},\"scene\":{\"xaxis\":{\"title\":{\"text\":\"X Axis\"}},\"yaxis\":{\"title\":{\"text\":\"Y Axis\"}},\"zaxis\":{\"title\":{\"text\":\"Z Axis\"}}}},                        {\"responsive\": true}                    ).then(function(){\n",
              "                            \n",
              "var gd = document.getElementById('8a07626f-ca35-4e59-9145-2a958d176f39');\n",
              "var x = new MutationObserver(function (mutations, observer) {{\n",
              "        var display = window.getComputedStyle(gd).display;\n",
              "        if (!display || display === 'none') {{\n",
              "            console.log([gd, 'removed!']);\n",
              "            Plotly.purge(gd);\n",
              "            observer.disconnect();\n",
              "        }}\n",
              "}});\n",
              "\n",
              "// Listen for the removal of the full notebook cells\n",
              "var notebookContainer = gd.closest('#notebook-container');\n",
              "if (notebookContainer) {{\n",
              "    x.observe(notebookContainer, {childList: true});\n",
              "}}\n",
              "\n",
              "// Listen for the clearing of the current output cell\n",
              "var outputEl = gd.closest('.output');\n",
              "if (outputEl) {{\n",
              "    x.observe(outputEl, {childList: true});\n",
              "}}\n",
              "\n",
              "                        })                };                            </script>        </div>\n",
              "</body>\n",
              "</html>"
            ]
          },
          "metadata": {}
        }
      ]
    }
  ]
}